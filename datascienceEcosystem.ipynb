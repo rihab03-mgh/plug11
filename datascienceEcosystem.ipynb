{
 "cells": [
  {
   "cell_type": "markdown",
   "id": "f1e871ec",
   "metadata": {},
   "source": [
    "# data science ecosystem"
   ]
  },
  {
   "cell_type": "markdown",
   "id": "b6699f23",
   "metadata": {},
   "source": [
    "in this notebook ,data science tools are summarzide"
   ]
  },
  {
   "cell_type": "markdown",
   "id": "c1d3b1ad",
   "metadata": {},
   "source": [
    "Objectives:\n",
    "+ List popular languages for Data Science\n",
    "+ list the commonly used libraries used by Data Scientists\n",
    "+ list data science tools "
   ]
  },
  {
   "cell_type": "markdown",
   "id": "85b67323",
   "metadata": {},
   "source": [
    "Some of the popular languages that Data Scientists use are:\n",
    "1. Python\n",
    "2. R\n",
    "3. sql"
   ]
  },
  {
   "cell_type": "markdown",
   "id": "ddaea585",
   "metadata": {},
   "source": [
    "Some of the commonly used libraries used by Data Scientists include:\n",
    "1. pandas\n",
    "2. sikit-learn\n",
    "3. numpy"
   ]
  },
  {
   "cell_type": "markdown",
   "id": "30ca968c",
   "metadata": {},
   "source": [
    "| Data Science Tools| \n",
    "|:--------:|\n",
    "|  Rstudio |  \n",
    "|  python  | \n",
    "|  SQL     |"
   ]
  },
  {
   "cell_type": "markdown",
   "id": "a105d796",
   "metadata": {},
   "source": [
    "### Below are a few examples of evaluating arithmetic expressions in Python"
   ]
  },
  {
   "cell_type": "code",
   "execution_count": 1,
   "id": "085812ed",
   "metadata": {},
   "outputs": [
    {
     "data": {
      "text/plain": [
       "17"
      ]
     },
     "execution_count": 1,
     "metadata": {},
     "output_type": "execute_result"
    }
   ],
   "source": [
    "# This a simple arithmetic expression to mutiply then add integers\n",
    "(3*4)+5"
   ]
  },
  {
   "cell_type": "code",
   "execution_count": 2,
   "id": "996cd44c",
   "metadata": {},
   "outputs": [
    {
     "data": {
      "text/plain": [
       "3.3333333333333335"
      ]
     },
     "execution_count": 2,
     "metadata": {},
     "output_type": "execute_result"
    }
   ],
   "source": [
    "#This will convert 200 minutes to hours by diving by 60\n",
    "200/60"
   ]
  },
  {
   "cell_type": "markdown",
   "id": "6a70f7d5",
   "metadata": {},
   "source": [
    "## Author:\n",
    "Rihab"
   ]
  }
 ],
 "metadata": {
  "kernelspec": {
   "display_name": "Python 3 (ipykernel)",
   "language": "python",
   "name": "python3"
  },
  "language_info": {
   "codemirror_mode": {
    "name": "ipython",
    "version": 3
   },
   "file_extension": ".py",
   "mimetype": "text/x-python",
   "name": "python",
   "nbconvert_exporter": "python",
   "pygments_lexer": "ipython3",
   "version": "3.9.17"
  }
 },
 "nbformat": 4,
 "nbformat_minor": 5
}
